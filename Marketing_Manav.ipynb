{
  "nbformat": 4,
  "nbformat_minor": 0,
  "metadata": {
    "colab": {
      "provenance": []
    },
    "kernelspec": {
      "name": "python3",
      "display_name": "Python 3"
    },
    "language_info": {
      "name": "python"
    }
  },
  "cells": [
    {
      "cell_type": "code",
      "source": [
        "import numpy as np\n",
        "import pandas as pd\n",
        "import tensorflow as tf\n",
        "from sklearn.model_selection import train_test_split\n",
        "from sklearn.preprocessing import StandardScaler\n",
        "from sklearn.metrics import accuracy_score, confusion_matrix"
      ],
      "metadata": {
        "id": "U_xyvQLxGvD_"
      },
      "execution_count": null,
      "outputs": []
    },
    {
      "cell_type": "code",
      "source": [
        "# Load your dataset\n",
        "# Assuming your dataset is stored in a CSV file named 'customer_data.csv'\n",
        "data = pd.read_csv('/content/drive/MyDrive/marketing_campaign.csv')"
      ],
      "metadata": {
        "id": "YQjabDB2Gz7F"
      },
      "execution_count": null,
      "outputs": []
    },
    {
      "cell_type": "code",
      "source": [
        "# Data preprocessing\n",
        "# Drop any unnecessary columns\n",
        "data = data.drop(columns=['ID', 'Dt_Customer'])"
      ],
      "metadata": {
        "id": "3KJ9-OEGG4g4"
      },
      "execution_count": null,
      "outputs": []
    },
    {
      "cell_type": "code",
      "source": [
        "# Handle missing values (if any)\n",
        "data = data.dropna()"
      ],
      "metadata": {
        "id": "Ryl2WIj2HO9W"
      },
      "execution_count": null,
      "outputs": []
    },
    {
      "cell_type": "code",
      "source": [
        "# Convert categorical variables to one-hot encoding\n",
        "data = pd.get_dummies(data, columns=['Education', 'Marital_Status'])"
      ],
      "metadata": {
        "id": "K3Th3oeaHR69"
      },
      "execution_count": null,
      "outputs": []
    },
    {
      "cell_type": "code",
      "source": [
        "# Split features and target variable\n",
        "X = data.drop(columns=['Response'])\n",
        "y = data['Response']"
      ],
      "metadata": {
        "id": "W6WewvUkHU3R"
      },
      "execution_count": null,
      "outputs": []
    },
    {
      "cell_type": "code",
      "source": [
        "# Split the data into train and test sets\n",
        "X_train, X_test, y_train, y_test = train_test_split(X, y, test_size=0.2, random_state=42)"
      ],
      "metadata": {
        "id": "PhnInmkxHX1i"
      },
      "execution_count": null,
      "outputs": []
    },
    {
      "cell_type": "code",
      "source": [
        "# Normalize features\n",
        "scaler = StandardScaler()\n",
        "X_train = scaler.fit_transform(X_train)\n",
        "X_test = scaler.transform(X_test)"
      ],
      "metadata": {
        "id": "Ny9V2P0CHa11"
      },
      "execution_count": null,
      "outputs": []
    },
    {
      "cell_type": "code",
      "source": [
        "# Define the MLP model\n",
        "model = tf.keras.Sequential([\n",
        "    tf.keras.layers.Dense(64, activation='relu', input_shape=(X_train.shape[1],)),\n",
        "    tf.keras.layers.Dropout(0.2),  # Dropout layer for regularization\n",
        "    tf.keras.layers.Dense(32, activation='relu'),\n",
        "    tf.keras.layers.Dense(1, activation='sigmoid')\n",
        "])"
      ],
      "metadata": {
        "id": "UE-vefCRHdhq"
      },
      "execution_count": null,
      "outputs": []
    },
    {
      "cell_type": "code",
      "source": [
        "# Compile the model\n",
        "model.compile(optimizer='adam', loss='binary_crossentropy', metrics=['accuracy'])"
      ],
      "metadata": {
        "id": "-COBdTTSHghF"
      },
      "execution_count": null,
      "outputs": []
    },
    {
      "cell_type": "code",
      "source": [
        "# Train the model\n",
        "history = model.fit(X_train, y_train, epochs=10, batch_size=32, validation_split=0.2)"
      ],
      "metadata": {
        "colab": {
          "base_uri": "https://localhost:8080/"
        },
        "id": "FtyU33oaHjB-",
        "outputId": "05381015-5900-4675-aee0-8b3987c4cab1"
      },
      "execution_count": null,
      "outputs": [
        {
          "output_type": "stream",
          "name": "stdout",
          "text": [
            "Epoch 1/10\n",
            "45/45 [==============================] - 1s 6ms/step - loss: 0.5044 - accuracy: 0.8327 - val_loss: 0.4097 - val_accuracy: 0.8423\n",
            "Epoch 2/10\n",
            "45/45 [==============================] - 0s 3ms/step - loss: 0.3702 - accuracy: 0.8603 - val_loss: 0.3598 - val_accuracy: 0.8592\n",
            "Epoch 3/10\n",
            "45/45 [==============================] - 0s 3ms/step - loss: 0.3237 - accuracy: 0.8730 - val_loss: 0.3406 - val_accuracy: 0.8620\n",
            "Epoch 4/10\n",
            "45/45 [==============================] - 0s 3ms/step - loss: 0.2938 - accuracy: 0.8836 - val_loss: 0.3312 - val_accuracy: 0.8676\n",
            "Epoch 5/10\n",
            "45/45 [==============================] - 0s 3ms/step - loss: 0.2799 - accuracy: 0.8878 - val_loss: 0.3294 - val_accuracy: 0.8732\n",
            "Epoch 6/10\n",
            "45/45 [==============================] - 0s 3ms/step - loss: 0.2723 - accuracy: 0.8956 - val_loss: 0.3233 - val_accuracy: 0.8789\n",
            "Epoch 7/10\n",
            "45/45 [==============================] - 0s 3ms/step - loss: 0.2625 - accuracy: 0.8941 - val_loss: 0.3246 - val_accuracy: 0.8704\n",
            "Epoch 8/10\n",
            "45/45 [==============================] - 0s 3ms/step - loss: 0.2475 - accuracy: 0.8984 - val_loss: 0.3247 - val_accuracy: 0.8704\n",
            "Epoch 9/10\n",
            "45/45 [==============================] - 0s 3ms/step - loss: 0.2491 - accuracy: 0.8963 - val_loss: 0.3256 - val_accuracy: 0.8676\n",
            "Epoch 10/10\n",
            "45/45 [==============================] - 0s 3ms/step - loss: 0.2465 - accuracy: 0.8984 - val_loss: 0.3306 - val_accuracy: 0.8676\n"
          ]
        }
      ]
    },
    {
      "cell_type": "code",
      "source": [
        "# Evaluate the model\n",
        "test_loss, test_acc = model.evaluate(X_test, y_test)\n",
        "print('Test Accuracy:', test_acc)"
      ],
      "metadata": {
        "colab": {
          "base_uri": "https://localhost:8080/"
        },
        "id": "C9XeDJGjHoQx",
        "outputId": "3d637e92-c60c-46f3-c8e5-c9237f2b773d"
      },
      "execution_count": null,
      "outputs": [
        {
          "output_type": "stream",
          "name": "stdout",
          "text": [
            "14/14 [==============================] - 0s 2ms/step - loss: 0.2617 - accuracy: 0.8851\n",
            "Test Accuracy: 0.8851351141929626\n"
          ]
        }
      ]
    },
    {
      "cell_type": "code",
      "source": [
        "# Make predictions\n",
        "y_pred_probs = model.predict(X_test)\n",
        "y_pred = (y_pred_probs > 0.5).astype(int)  # Threshold probabilities to get classes"
      ],
      "metadata": {
        "colab": {
          "base_uri": "https://localhost:8080/"
        },
        "id": "L0F0Q1lcHy2q",
        "outputId": "0a64f412-7a2f-49db-fbf7-0ca514645f73"
      },
      "execution_count": null,
      "outputs": [
        {
          "output_type": "stream",
          "name": "stdout",
          "text": [
            "14/14 [==============================] - 0s 2ms/step\n"
          ]
        }
      ]
    },
    {
      "cell_type": "code",
      "source": [
        "# Calculate accuracy and confusion matrix\n",
        "accuracy = accuracy_score(y_test, y_pred)\n",
        "conf_matrix = confusion_matrix(y_test, y_pred)\n",
        "print('Accuracy:', accuracy)\n",
        "print('Confusion Matrix:')\n",
        "print(conf_matrix)"
      ],
      "metadata": {
        "colab": {
          "base_uri": "https://localhost:8080/"
        },
        "id": "cBpfvZr5JEtf",
        "outputId": "b0a5dc9f-fc32-48bd-e8a2-77420f5092eb"
      },
      "execution_count": null,
      "outputs": [
        {
          "output_type": "stream",
          "name": "stdout",
          "text": [
            "Accuracy: 0.8851351351351351\n",
            "Confusion Matrix:\n",
            "[[367  15]\n",
            " [ 36  26]]\n"
          ]
        }
      ]
    }
  ]
}